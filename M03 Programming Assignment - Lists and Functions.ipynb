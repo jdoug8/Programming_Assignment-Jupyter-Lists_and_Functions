{
  "cells": [
    {
      "cell_type": "code",
      "execution_count": 2,
      "metadata": {
        "trusted": true
      },
      "outputs": [
        {
          "name": "stdout",
          "output_type": "stream",
          "text": [
            "['mozzarella', 'cinderella', 'salmonella']\n"
          ]
        }
      ],
      "source": [
        "things = ['mozzarella', 'cinderella', 'salmonella']\n",
        "\n",
        "print(things)"
      ]
    },
    {
      "cell_type": "code",
      "execution_count": 3,
      "metadata": {
        "trusted": true
      },
      "outputs": [
        {
          "name": "stdout",
          "output_type": "stream",
          "text": [
            "['mozzarella', 'Cinderella', 'salmonella']\n"
          ]
        }
      ],
      "source": [
        "things = ['mozzarella', 'cinderella', 'salmonella']\n",
        "\n",
        "things[1] = things[1].capitalize()\n",
        "\n",
        "print(things)"
      ]
    },
    {
      "cell_type": "code",
      "execution_count": 5,
      "metadata": {
        "trusted": true
      },
      "outputs": [
        {
          "name": "stdout",
          "output_type": "stream",
          "text": [
            "['MOZZARELLA', 'cinderella', 'salmonella']\n"
          ]
        }
      ],
      "source": [
        "things = ['mozzarella', 'cinderella', 'salmonella']\n",
        "\n",
        "things[0] = things[0].upper()\n",
        "\n",
        "print(things)"
      ]
    },
    {
      "cell_type": "code",
      "execution_count": 6,
      "metadata": {
        "trusted": true
      },
      "outputs": [
        {
          "name": "stdout",
          "output_type": "stream",
          "text": [
            "['mozzarella', 'cinderella']\n"
          ]
        }
      ],
      "source": [
        "things = ['mozzarella', 'cinderella', 'salmonella']\n",
        "\n",
        "things.remove('salmonella')\n",
        "\n",
        "print(things)"
      ]
    },
    {
      "cell_type": "code",
      "execution_count": 7,
      "metadata": {
        "trusted": true
      },
      "outputs": [
        {
          "name": "stdout",
          "output_type": "stream",
          "text": [
            "['Harry', 'Ron', 'Hermione']\n"
          ]
        }
      ],
      "source": [
        "def good():\n",
        "    return ['Harry', 'Ron', 'Hermione']\n",
        "\n",
        "friends = good()\n",
        "print(friends)"
      ]
    },
    {
      "cell_type": "code",
      "execution_count": 8,
      "metadata": {
        "trusted": true
      },
      "outputs": [
        {
          "name": "stdout",
          "output_type": "stream",
          "text": [
            "5\n"
          ]
        }
      ],
      "source": [
        "def get_odds():\n",
        "    return (x for x in range(10) if x % 2 != 0)\n",
        "\n",
        "odd_list = [x for x in get_odds()]\n",
        "\n",
        "print(odd_list[2])"
      ]
    },
    {
      "cell_type": "code",
      "execution_count": null,
      "metadata": {},
      "outputs": [],
      "source": []
    }
  ],
  "metadata": {
    "kernelspec": {
      "display_name": "Python 3.11.0 64-bit",
      "language": "python",
      "name": "python3"
    },
    "language_info": {
      "codemirror_mode": {
        "name": "python",
        "version": 3
      },
      "file_extension": ".py",
      "mimetype": "text/x-python",
      "name": "python",
      "nbconvert_exporter": "python",
      "pygments_lexer": "ipython3",
      "version": "3.11.0"
    },
    "vscode": {
      "interpreter": {
        "hash": "1dad11aadd74b0f2045e349a0edfa3d5068538d92a79cb8fe1f4ceeacc3d24d9"
      }
    }
  },
  "nbformat": 4,
  "nbformat_minor": 4
}
